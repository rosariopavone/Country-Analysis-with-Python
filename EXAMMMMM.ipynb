{
 "cells": [
  {
   "cell_type": "code",
   "execution_count": 2,
   "id": "86351b2d-b39b-4231-be4e-c3a373c04ee1",
   "metadata": {},
   "outputs": [],
   "source": [
    "import pandas as pd\n",
    "from matplotlib import pyplot as plt\n",
    "from matplotlib import pyplot as pt"
   ]
  },
  {
   "cell_type": "code",
   "execution_count": 3,
   "id": "2bb0c010-3cdf-438b-b454-1c80298cf895",
   "metadata": {},
   "outputs": [],
   "source": [
    "DF=pd.read_csv(\"Global Education123.csv\")"
   ]
  },
  {
   "cell_type": "code",
   "execution_count": 4,
   "id": "0e6efe4d-54b2-4d71-bf57-343cf52c2202",
   "metadata": {},
   "outputs": [
    {
     "data": {
      "text/plain": [
       "<bound method DataFrame.info of        Countries  Lower_Secondary_End_Proficiency_Read  \\\n",
       "0    Afghanistan                                     0   \n",
       "1        Albania                                    48   \n",
       "2        Algeria                                    21   \n",
       "3        Andorra                                     0   \n",
       "4         Angola                                     0   \n",
       "..           ...                                   ...   \n",
       "197    Venezuela                                     0   \n",
       "198      Vietnam                                    86   \n",
       "199        Yemen                                     0   \n",
       "200       Zambia                                     5   \n",
       "201     Zimbabwe                                     0   \n",
       "\n",
       "     Completion_Rate_Upper_Secondary_Male  Youth_15_24_Literacy_Rate_Male  \\\n",
       "0                                      32                              74   \n",
       "1                                      76                              99   \n",
       "2                                      22                              98   \n",
       "3                                       0                               0   \n",
       "4                                      24                               0   \n",
       "..                                    ...                             ...   \n",
       "197                                     0                               0   \n",
       "198                                    50                              98   \n",
       "199                                    37                               0   \n",
       "200                                    33                              93   \n",
       "201                                    17                               0   \n",
       "\n",
       "     Youth_15_24_Literacy_Rate_Female  Completion_Rate_Upper_Secondary_Female  \n",
       "0                                  56                                      14  \n",
       "1                                 100                                      80  \n",
       "2                                  97                                      37  \n",
       "3                                   0                                       0  \n",
       "4                                   0                                      15  \n",
       "..                                ...                                     ...  \n",
       "197                                 0                                       0  \n",
       "198                                98                                      61  \n",
       "199                                 0                                      23  \n",
       "200                                92                                      27  \n",
       "201                                 0                                      14  \n",
       "\n",
       "[202 rows x 6 columns]>"
      ]
     },
     "execution_count": 4,
     "metadata": {},
     "output_type": "execute_result"
    }
   ],
   "source": [
    "DF.info"
   ]
  },
  {
   "cell_type": "code",
   "execution_count": 5,
   "id": "2a3b8ec9-c815-4766-b826-212c8f0408cd",
   "metadata": {
    "scrolled": true
   },
   "outputs": [
    {
     "data": {
      "text/html": [
       "<div>\n",
       "<style scoped>\n",
       "    .dataframe tbody tr th:only-of-type {\n",
       "        vertical-align: middle;\n",
       "    }\n",
       "\n",
       "    .dataframe tbody tr th {\n",
       "        vertical-align: top;\n",
       "    }\n",
       "\n",
       "    .dataframe thead th {\n",
       "        text-align: right;\n",
       "    }\n",
       "</style>\n",
       "<table border=\"1\" class=\"dataframe\">\n",
       "  <thead>\n",
       "    <tr style=\"text-align: right;\">\n",
       "      <th></th>\n",
       "      <th>Countries</th>\n",
       "      <th>Lower_Secondary_End_Proficiency_Read</th>\n",
       "      <th>Completion_Rate_Upper_Secondary_Male</th>\n",
       "      <th>Youth_15_24_Literacy_Rate_Male</th>\n",
       "      <th>Youth_15_24_Literacy_Rate_Female</th>\n",
       "      <th>Completion_Rate_Upper_Secondary_Female</th>\n",
       "    </tr>\n",
       "  </thead>\n",
       "  <tbody>\n",
       "    <tr>\n",
       "      <th>0</th>\n",
       "      <td>Afghanistan</td>\n",
       "      <td>0</td>\n",
       "      <td>32</td>\n",
       "      <td>74</td>\n",
       "      <td>56</td>\n",
       "      <td>14</td>\n",
       "    </tr>\n",
       "    <tr>\n",
       "      <th>1</th>\n",
       "      <td>Albania</td>\n",
       "      <td>48</td>\n",
       "      <td>76</td>\n",
       "      <td>99</td>\n",
       "      <td>100</td>\n",
       "      <td>80</td>\n",
       "    </tr>\n",
       "    <tr>\n",
       "      <th>2</th>\n",
       "      <td>Algeria</td>\n",
       "      <td>21</td>\n",
       "      <td>22</td>\n",
       "      <td>98</td>\n",
       "      <td>97</td>\n",
       "      <td>37</td>\n",
       "    </tr>\n",
       "    <tr>\n",
       "      <th>3</th>\n",
       "      <td>Andorra</td>\n",
       "      <td>0</td>\n",
       "      <td>0</td>\n",
       "      <td>0</td>\n",
       "      <td>0</td>\n",
       "      <td>0</td>\n",
       "    </tr>\n",
       "    <tr>\n",
       "      <th>4</th>\n",
       "      <td>Angola</td>\n",
       "      <td>0</td>\n",
       "      <td>24</td>\n",
       "      <td>0</td>\n",
       "      <td>0</td>\n",
       "      <td>15</td>\n",
       "    </tr>\n",
       "  </tbody>\n",
       "</table>\n",
       "</div>"
      ],
      "text/plain": [
       "     Countries  Lower_Secondary_End_Proficiency_Read  \\\n",
       "0  Afghanistan                                     0   \n",
       "1      Albania                                    48   \n",
       "2      Algeria                                    21   \n",
       "3      Andorra                                     0   \n",
       "4       Angola                                     0   \n",
       "\n",
       "   Completion_Rate_Upper_Secondary_Male  Youth_15_24_Literacy_Rate_Male  \\\n",
       "0                                    32                              74   \n",
       "1                                    76                              99   \n",
       "2                                    22                              98   \n",
       "3                                     0                               0   \n",
       "4                                    24                               0   \n",
       "\n",
       "   Youth_15_24_Literacy_Rate_Female  Completion_Rate_Upper_Secondary_Female  \n",
       "0                                56                                      14  \n",
       "1                               100                                      80  \n",
       "2                                97                                      37  \n",
       "3                                 0                                       0  \n",
       "4                                 0                                      15  "
      ]
     },
     "execution_count": 5,
     "metadata": {},
     "output_type": "execute_result"
    }
   ],
   "source": [
    "DF.head()"
   ]
  },
  {
   "cell_type": "code",
   "execution_count": 6,
   "id": "642a30d2-ac8f-45cb-9342-3fbfee22109a",
   "metadata": {
    "scrolled": true
   },
   "outputs": [
    {
     "name": "stdout",
     "output_type": "stream",
     "text": [
      "['Afghanistan' 'Albania' 'Algeria' 'Andorra' 'Angola' 'Anguilla'\n",
      " 'Antigua and Barbuda' 'Argentina' 'Armenia' 'Australia' 'Austria'\n",
      " 'Azerbaijan' 'The Bahamas' 'Bahrain' 'Bangladesh' 'Barbados' 'Belarus'\n",
      " 'Belgium' 'Belize' 'Benin' 'Bhutan' 'Bolivia' 'Bosnia and Herzegovina'\n",
      " 'Botswana' 'Brazil' 'British Virgin Islands' 'Brunei' 'Bulgaria'\n",
      " 'Burkina Faso' 'Burundi' 'Cape Verde' 'Cambodia' 'Cameroon' 'Canada'\n",
      " 'Central African Republic' 'Chad' 'Chile' 'China' 'Colombia' 'Comoros'\n",
      " 'Republic of the Congo' 'Cook Islands' 'Costa Rica' 'Ivory Coast'\n",
      " 'Croatia' 'Cuba' 'Cyprus' 'Czech Republic' 'North Korea'\n",
      " 'Democratic Republic of the Congo' 'Denmark' 'Djibouti' 'Dominica'\n",
      " 'Dominican Republic' 'Ecuador' 'Egypt' 'El Salvador' 'Equatorial Guinea'\n",
      " 'Eritrea' 'Estonia' 'Eswatini' 'Ethiopia' 'Fiji' 'Finland' 'France'\n",
      " 'Gabon' 'The Gambia' 'Georgia' 'Germany' 'Ghana' 'Greece' 'Grenada'\n",
      " 'Guatemala' 'Guinea' 'Guinea0Bissau' 'Guyana' 'Haiti' 'Vatican City'\n",
      " 'Honduras' 'Hungary' 'Iceland' 'India' 'Indonesia' 'Iran' 'Iraq'\n",
      " 'Republic of Ireland' 'Israel' 'Italy' 'Jamaica' 'Japan' 'Jordan'\n",
      " 'Kazakhstan' 'Kenya' 'Kiribati' 'Kuwait' 'Kyrgyzstan' 'Laos' 'Latvia'\n",
      " 'Lebanon' 'Lesotho' 'Liberia' 'Libya' 'Liechtenstein' 'Lithuania'\n",
      " 'Luxembourg' 'Madagascar' 'Malawi' 'Malaysia' 'Maldives' 'Mali' 'Malta'\n",
      " 'Marshall Islands' 'Mauritania' 'Mauritius' 'Mexico'\n",
      " 'Federated States of Micronesia' 'Monaco' 'Mongolia' 'Montenegro'\n",
      " 'Montserrat' 'Morocco' 'Mozambique' 'Myanmar' 'Namibia' 'Nauru' 'Nepal'\n",
      " 'Netherlands' 'New Zealand' 'Nicaragua' 'Niger' 'Nigeria' 'Niue'\n",
      " 'North Macedonia' 'Norway' 'Oman' 'Pakistan' 'Palau' 'Panama'\n",
      " 'Papua New Guinea' 'Paraguay' 'Peru' 'Philippines' 'Poland' 'Portugal'\n",
      " 'Qatar' 'South Korea' 'Moldova' 'Romania' 'Russia' 'Rwanda'\n",
      " 'Saint Kitts and Nevis' 'Saint Lucia' 'Saint Vincent and the Grenadines'\n",
      " 'Samoa' 'San Marino' 'S��������' 'Saudi Arabia' 'Senegal' 'Serbia'\n",
      " 'Seychelles' 'Sierra Leone' 'Singapore' 'Slovakia' 'Slovenia'\n",
      " 'Solomon Islands' 'Somalia' 'South Africa' 'South Sudan' 'Spain'\n",
      " 'Sri Lanka' 'Palestinian National Authority' 'Sudan' 'Suriname' 'Sweden'\n",
      " 'Switzerland' 'Syria' 'Tajikistan' 'Thailand' 'East Timor' 'Togo'\n",
      " 'Tokelau' 'Tonga' 'Trinidad and Tobago' 'Tunisia' 'Turkey' 'Turkmenistan'\n",
      " 'Turks and Caicos Islands' 'Tuvalu' 'Uganda' 'Ukraine'\n",
      " 'United Arab Emirates' 'United Kingdom' 'Tanzania' 'United States'\n",
      " 'Uruguay' 'Uzbekistan' 'Vanuatu' 'Venezuela' 'Vietnam' 'Yemen' 'Zambia'\n",
      " 'Zimbabwe']\n"
     ]
    }
   ],
   "source": [
    "print(DF.Countries.unique())"
   ]
  },
  {
   "cell_type": "code",
   "execution_count": 7,
   "id": "3f705dda-4684-414d-853c-f75074cb9b47",
   "metadata": {},
   "outputs": [
    {
     "data": {
      "text/html": [
       "<div>\n",
       "<style scoped>\n",
       "    .dataframe tbody tr th:only-of-type {\n",
       "        vertical-align: middle;\n",
       "    }\n",
       "\n",
       "    .dataframe tbody tr th {\n",
       "        vertical-align: top;\n",
       "    }\n",
       "\n",
       "    .dataframe thead th {\n",
       "        text-align: right;\n",
       "    }\n",
       "</style>\n",
       "<table border=\"1\" class=\"dataframe\">\n",
       "  <thead>\n",
       "    <tr style=\"text-align: right;\">\n",
       "      <th></th>\n",
       "      <th>Lower_Secondary_End_Proficiency_Read</th>\n",
       "      <th>Completion_Rate_Upper_Secondary_Male</th>\n",
       "      <th>Youth_15_24_Literacy_Rate_Male</th>\n",
       "      <th>Youth_15_24_Literacy_Rate_Female</th>\n",
       "      <th>Completion_Rate_Upper_Secondary_Female</th>\n",
       "    </tr>\n",
       "  </thead>\n",
       "  <tbody>\n",
       "    <tr>\n",
       "      <th>count</th>\n",
       "      <td>202.000000</td>\n",
       "      <td>202.000000</td>\n",
       "      <td>202.000000</td>\n",
       "      <td>202.000000</td>\n",
       "      <td>202.000000</td>\n",
       "    </tr>\n",
       "    <tr>\n",
       "      <th>mean</th>\n",
       "      <td>25.787129</td>\n",
       "      <td>22.683168</td>\n",
       "      <td>35.801980</td>\n",
       "      <td>35.084158</td>\n",
       "      <td>23.069307</td>\n",
       "    </tr>\n",
       "    <tr>\n",
       "      <th>std</th>\n",
       "      <td>33.181384</td>\n",
       "      <td>28.604850</td>\n",
       "      <td>45.535186</td>\n",
       "      <td>45.249643</td>\n",
       "      <td>30.487827</td>\n",
       "    </tr>\n",
       "    <tr>\n",
       "      <th>min</th>\n",
       "      <td>0.000000</td>\n",
       "      <td>0.000000</td>\n",
       "      <td>0.000000</td>\n",
       "      <td>0.000000</td>\n",
       "      <td>0.000000</td>\n",
       "    </tr>\n",
       "    <tr>\n",
       "      <th>25%</th>\n",
       "      <td>0.000000</td>\n",
       "      <td>0.000000</td>\n",
       "      <td>0.000000</td>\n",
       "      <td>0.000000</td>\n",
       "      <td>0.000000</td>\n",
       "    </tr>\n",
       "    <tr>\n",
       "      <th>50%</th>\n",
       "      <td>0.000000</td>\n",
       "      <td>9.500000</td>\n",
       "      <td>0.000000</td>\n",
       "      <td>0.000000</td>\n",
       "      <td>5.500000</td>\n",
       "    </tr>\n",
       "    <tr>\n",
       "      <th>75%</th>\n",
       "      <td>56.750000</td>\n",
       "      <td>40.000000</td>\n",
       "      <td>94.000000</td>\n",
       "      <td>96.750000</td>\n",
       "      <td>38.750000</td>\n",
       "    </tr>\n",
       "    <tr>\n",
       "      <th>max</th>\n",
       "      <td>89.000000</td>\n",
       "      <td>100.000000</td>\n",
       "      <td>100.000000</td>\n",
       "      <td>100.000000</td>\n",
       "      <td>100.000000</td>\n",
       "    </tr>\n",
       "  </tbody>\n",
       "</table>\n",
       "</div>"
      ],
      "text/plain": [
       "       Lower_Secondary_End_Proficiency_Read  \\\n",
       "count                            202.000000   \n",
       "mean                              25.787129   \n",
       "std                               33.181384   \n",
       "min                                0.000000   \n",
       "25%                                0.000000   \n",
       "50%                                0.000000   \n",
       "75%                               56.750000   \n",
       "max                               89.000000   \n",
       "\n",
       "       Completion_Rate_Upper_Secondary_Male  Youth_15_24_Literacy_Rate_Male  \\\n",
       "count                            202.000000                      202.000000   \n",
       "mean                              22.683168                       35.801980   \n",
       "std                               28.604850                       45.535186   \n",
       "min                                0.000000                        0.000000   \n",
       "25%                                0.000000                        0.000000   \n",
       "50%                                9.500000                        0.000000   \n",
       "75%                               40.000000                       94.000000   \n",
       "max                              100.000000                      100.000000   \n",
       "\n",
       "       Youth_15_24_Literacy_Rate_Female  \\\n",
       "count                        202.000000   \n",
       "mean                          35.084158   \n",
       "std                           45.249643   \n",
       "min                            0.000000   \n",
       "25%                            0.000000   \n",
       "50%                            0.000000   \n",
       "75%                           96.750000   \n",
       "max                          100.000000   \n",
       "\n",
       "       Completion_Rate_Upper_Secondary_Female  \n",
       "count                              202.000000  \n",
       "mean                                23.069307  \n",
       "std                                 30.487827  \n",
       "min                                  0.000000  \n",
       "25%                                  0.000000  \n",
       "50%                                  5.500000  \n",
       "75%                                 38.750000  \n",
       "max                                100.000000  "
      ]
     },
     "execution_count": 7,
     "metadata": {},
     "output_type": "execute_result"
    }
   ],
   "source": [
    "DF[[\"Lower_Secondary_End_Proficiency_Read\", \"Completion_Rate_Upper_Secondary_Male\",\"Youth_15_24_Literacy_Rate_Male\",\"Youth_15_24_Literacy_Rate_Female\",\"Completion_Rate_Upper_Secondary_Female\"]].describe()"
   ]
  },
  {
   "cell_type": "code",
   "execution_count": 8,
   "id": "d3f59cae-137f-4582-bea9-e2204d9903e1",
   "metadata": {},
   "outputs": [],
   "source": [
    "countries = {\n",
    "    'Africa': [\n",
    "        'Algeria', 'Angola', 'Benin', 'Botswana', 'Burkina Faso', 'Burundi', 'Cape Verde', 'Cameroon', 'Central African Republic',\n",
    "        'Chad', 'Comoros', 'Republic of the Congo', 'Ivory Coast', 'Djibouti', 'Egypt', 'Equatorial Guinea', 'Eritrea', 'Eswatini',\n",
    "        'Ethiopia', 'Gabon', 'The Gambia', 'Ghana', 'Guinea', 'Guinea-Bissau', 'Kenya', 'Lesotho', 'Liberia', 'Libya', 'Madagascar',\n",
    "        'Malawi', 'Mali', 'Mauritania', 'Mauritius', 'Morocco', 'Mozambique', 'Namibia', 'Niger', 'Nigeria', 'Rwanda', 'Senegal',\n",
    "        'Seychelles', 'Sierra Leone', 'Somalia', 'South Africa', 'South Sudan', 'Sudan', 'Tanzania', 'Togo', 'Tunisia', 'Uganda',\n",
    "        'Zambia', 'Zimbabwe'\n",
    "    ],\n",
    "    'Asia': [\n",
    "        'Afghanistan', 'Armenia', 'Azerbaijan', 'Bahrain', 'Bangladesh', 'Bhutan', 'Brunei', 'Cambodia', 'China', 'Georgia', 'India',\n",
    "        'Indonesia', 'Iran', 'Iraq', 'Israel', 'Japan', 'Jordan', 'Kazakhstan', 'Kuwait', 'Kyrgyzstan', 'Laos', 'Lebanon', 'Malaysia',\n",
    "        'Maldives', 'Mongolia', 'Myanmar', 'Nepal', 'North Korea', 'Oman', 'Pakistan', 'Palestine', 'Philippines', 'Qatar', 'Saudi Arabia',\n",
    "        'Singapore', 'South Korea', 'Sri Lanka', 'Syria', 'Tajikistan', 'Thailand', 'East Timor', 'Turkey', 'Turkmenistan', 'United Arab Emirates',\n",
    "        'Uzbekistan', 'Vietnam', 'Yemen'\n",
    "    ],\n",
    "    'Europe': [\n",
    "        'Albania', 'Andorra', 'Austria', 'Belarus', 'Belgium', 'Bosnia and Herzegovina', 'Bulgaria', 'Croatia', 'Cyprus', 'Czech Republic',\n",
    "        'Denmark', 'Estonia', 'Finland', 'France', 'Germany', 'Greece', 'Hungary', 'Iceland', 'Ireland', 'Italy', 'Kosovo', 'Latvia',\n",
    "        'Liechtenstein', 'Lithuania', 'Luxembourg', 'Malta', 'Moldova', 'Monaco', 'Montenegro', 'Netherlands', 'North Macedonia', 'Norway',\n",
    "        'Poland', 'Portugal', 'Romania', 'Russia', 'San Marino', 'Serbia', 'Slovakia', 'Slovenia', 'Spain', 'Sweden', 'Switzerland', 'Ukraine',\n",
    "        'United Kingdom', 'Vatican City'\n",
    "    ],\n",
    "    'North America': [\n",
    "        'Antigua and Barbuda', 'The Bahamas', 'Barbados', 'Belize', 'Canada', 'Dominica', 'Dominican Republic', 'El Salvador', 'Grenada',\n",
    "        'Guatemala', 'Haiti', 'Honduras', 'Jamaica', 'Mexico', 'Panama', 'Saint Kitts and Nevis', 'Saint Lucia', 'Saint Vincent and the Grenadines',\n",
    "        'Trinidad and Tobago', 'United States'\n",
    "    ],\n",
    "    'Oceania': [\n",
    "        'Australia', 'Fiji', 'Kiribati', 'Marshall Islands', 'Micronesia', 'Nauru', 'New Zealand', 'Palau', 'Papua New Guinea', 'Samoa',\n",
    "        'Solomon Islands', 'Tonga', 'Tuvalu', 'Vanuatu'\n",
    "    ],\n",
    "    'South America': [\n",
    "        'Argentina', 'Bolivia', 'Brazil', 'Chile', 'Colombia', 'Ecuador', 'Guyana', 'Paraguay', 'Peru', 'Suriname', 'Uruguay', 'Venezuela'\n",
    "    ]\n",
    "}\n",
    "\n",
    "def get_continent(country):\n",
    "    for continent, country_list in countries.items():\n",
    "        if country in country_list:\n",
    "            return continent\n",
    "    return None"
   ]
  },
  {
   "cell_type": "code",
   "execution_count": 9,
   "id": "8852b013-b22e-4710-b429-0f36bd135b47",
   "metadata": {},
   "outputs": [
    {
     "name": "stdout",
     "output_type": "stream",
     "text": [
      "count        186\n",
      "unique         6\n",
      "top       Africa\n",
      "freq          51\n",
      "Name: Continent, dtype: object\n"
     ]
    },
    {
     "data": {
      "image/png": "[encoded data removed]",
      "text/plain": [
       "<Figure size 1000x800 with 1 Axes>"
      ]
     },
     "metadata": {},
     "output_type": "display_data"
    }
   ],
   "source": [
    "DF['Continent'] = DF['Countries'].apply(get_continent)\n",
    "\n",
    "# Display statistical summary\n",
    "categorical_column = 'Continent'\n",
    "categorical_summary = DF[categorical_column].describe()\n",
    "print(categorical_summary)\n",
    "\n",
    "# Plotting the pie chart\n",
    "count = DF[categorical_column].value_counts()\n",
    "\n",
    "# Plotting the pie chart\n",
    "plt.figure(figsize=(10, 8))\n",
    "plt.pie(count, labels=count.index, autopct='%1.1f%%', startangle=140)\n",
    "plt.title(f'Pie Chart for {categorical_column}')\n",
    "plt.show()"
   ]
  },
  {
   "cell_type": "code",
   "execution_count": 10,
   "id": "d5b6efc0-4968-4352-a174-bb7cf28cf1ee",
   "metadata": {},
   "outputs": [
    {
     "data": {
      "text/html": [
       "<div>\n",
       "<style scoped>\n",
       "    .dataframe tbody tr th:only-of-type {\n",
       "        vertical-align: middle;\n",
       "    }\n",
       "\n",
       "    .dataframe tbody tr th {\n",
       "        vertical-align: top;\n",
       "    }\n",
       "\n",
       "    .dataframe thead th {\n",
       "        text-align: right;\n",
       "    }\n",
       "</style>\n",
       "<table border=\"1\" class=\"dataframe\">\n",
       "  <thead>\n",
       "    <tr style=\"text-align: right;\">\n",
       "      <th></th>\n",
       "      <th>Countries</th>\n",
       "      <th>Lower_Secondary_End_Proficiency_Read</th>\n",
       "      <th>Completion_Rate_Upper_Secondary_Male</th>\n",
       "      <th>Youth_15_24_Literacy_Rate_Male</th>\n",
       "      <th>Youth_15_24_Literacy_Rate_Female</th>\n",
       "      <th>Completion_Rate_Upper_Secondary_Female</th>\n",
       "      <th>Continent</th>\n",
       "    </tr>\n",
       "  </thead>\n",
       "  <tbody>\n",
       "    <tr>\n",
       "      <th>0</th>\n",
       "      <td>Afghanistan</td>\n",
       "      <td>0</td>\n",
       "      <td>32</td>\n",
       "      <td>74</td>\n",
       "      <td>56</td>\n",
       "      <td>14</td>\n",
       "      <td>Asia</td>\n",
       "    </tr>\n",
       "    <tr>\n",
       "      <th>1</th>\n",
       "      <td>Albania</td>\n",
       "      <td>48</td>\n",
       "      <td>76</td>\n",
       "      <td>99</td>\n",
       "      <td>100</td>\n",
       "      <td>80</td>\n",
       "      <td>Europe</td>\n",
       "    </tr>\n",
       "    <tr>\n",
       "      <th>2</th>\n",
       "      <td>Algeria</td>\n",
       "      <td>21</td>\n",
       "      <td>22</td>\n",
       "      <td>98</td>\n",
       "      <td>97</td>\n",
       "      <td>37</td>\n",
       "      <td>Africa</td>\n",
       "    </tr>\n",
       "    <tr>\n",
       "      <th>3</th>\n",
       "      <td>Andorra</td>\n",
       "      <td>0</td>\n",
       "      <td>0</td>\n",
       "      <td>0</td>\n",
       "      <td>0</td>\n",
       "      <td>0</td>\n",
       "      <td>Europe</td>\n",
       "    </tr>\n",
       "    <tr>\n",
       "      <th>4</th>\n",
       "      <td>Angola</td>\n",
       "      <td>0</td>\n",
       "      <td>24</td>\n",
       "      <td>0</td>\n",
       "      <td>0</td>\n",
       "      <td>15</td>\n",
       "      <td>Africa</td>\n",
       "    </tr>\n",
       "    <tr>\n",
       "      <th>...</th>\n",
       "      <td>...</td>\n",
       "      <td>...</td>\n",
       "      <td>...</td>\n",
       "      <td>...</td>\n",
       "      <td>...</td>\n",
       "      <td>...</td>\n",
       "      <td>...</td>\n",
       "    </tr>\n",
       "    <tr>\n",
       "      <th>197</th>\n",
       "      <td>Venezuela</td>\n",
       "      <td>0</td>\n",
       "      <td>0</td>\n",
       "      <td>0</td>\n",
       "      <td>0</td>\n",
       "      <td>0</td>\n",
       "      <td>South America</td>\n",
       "    </tr>\n",
       "    <tr>\n",
       "      <th>198</th>\n",
       "      <td>Vietnam</td>\n",
       "      <td>86</td>\n",
       "      <td>50</td>\n",
       "      <td>98</td>\n",
       "      <td>98</td>\n",
       "      <td>61</td>\n",
       "      <td>Asia</td>\n",
       "    </tr>\n",
       "    <tr>\n",
       "      <th>199</th>\n",
       "      <td>Yemen</td>\n",
       "      <td>0</td>\n",
       "      <td>37</td>\n",
       "      <td>0</td>\n",
       "      <td>0</td>\n",
       "      <td>23</td>\n",
       "      <td>Asia</td>\n",
       "    </tr>\n",
       "    <tr>\n",
       "      <th>200</th>\n",
       "      <td>Zambia</td>\n",
       "      <td>5</td>\n",
       "      <td>33</td>\n",
       "      <td>93</td>\n",
       "      <td>92</td>\n",
       "      <td>27</td>\n",
       "      <td>Africa</td>\n",
       "    </tr>\n",
       "    <tr>\n",
       "      <th>201</th>\n",
       "      <td>Zimbabwe</td>\n",
       "      <td>0</td>\n",
       "      <td>17</td>\n",
       "      <td>0</td>\n",
       "      <td>0</td>\n",
       "      <td>14</td>\n",
       "      <td>Africa</td>\n",
       "    </tr>\n",
       "  </tbody>\n",
       "</table>\n",
       "<p>202 rows × 7 columns</p>\n",
       "</div>"
      ],
      "text/plain": [
       "       Countries  Lower_Secondary_End_Proficiency_Read  \\\n",
       "0    Afghanistan                                     0   \n",
       "1        Albania                                    48   \n",
       "2        Algeria                                    21   \n",
       "3        Andorra                                     0   \n",
       "4         Angola                                     0   \n",
       "..           ...                                   ...   \n",
       "197    Venezuela                                     0   \n",
       "198      Vietnam                                    86   \n",
       "199        Yemen                                     0   \n",
       "200       Zambia                                     5   \n",
       "201     Zimbabwe                                     0   \n",
       "\n",
       "     Completion_Rate_Upper_Secondary_Male  Youth_15_24_Literacy_Rate_Male  \\\n",
       "0                                      32                              74   \n",
       "1                                      76                              99   \n",
       "2                                      22                              98   \n",
       "3                                       0                               0   \n",
       "4                                      24                               0   \n",
       "..                                    ...                             ...   \n",
       "197                                     0                               0   \n",
       "198                                    50                              98   \n",
       "199                                    37                               0   \n",
       "200                                    33                              93   \n",
       "201                                    17                               0   \n",
       "\n",
       "     Youth_15_24_Literacy_Rate_Female  Completion_Rate_Upper_Secondary_Female  \\\n",
       "0                                  56                                      14   \n",
       "1                                 100                                      80   \n",
       "2                                  97                                      37   \n",
       "3                                   0                                       0   \n",
       "4                                   0                                      15   \n",
       "..                                ...                                     ...   \n",
       "197                                 0                                       0   \n",
       "198                                98                                      61   \n",
       "199                                 0                                      23   \n",
       "200                                92                                      27   \n",
       "201                                 0                                      14   \n",
       "\n",
       "         Continent  \n",
       "0             Asia  \n",
       "1           Europe  \n",
       "2           Africa  \n",
       "3           Europe  \n",
       "4           Africa  \n",
       "..             ...  \n",
       "197  South America  \n",
       "198           Asia  \n",
       "199           Asia  \n",
       "200         Africa  \n",
       "201         Africa  \n",
       "\n",
       "[202 rows x 7 columns]"
      ]
     },
     "execution_count": 10,
     "metadata": {},
     "output_type": "execute_result"
    }
   ],
   "source": [
    "DF\n"
   ]
  },
  {
   "cell_type": "code",
   "execution_count": 11,
   "id": "a7604fcb-3d2b-439a-ba3f-4532c573d07e",
   "metadata": {},
   "outputs": [
    {
     "data": {
      "text/plain": [
       "<Axes: >"
      ]
     },
     "execution_count": 11,
     "metadata": {},
     "output_type": "execute_result"
    },
    {
     "data": {
      "image/png": "[encoded data removed]",
      "text/plain": [
       "<Figure size 640x480 with 1 Axes>"
      ]
     },
     "metadata": {},
     "output_type": "display_data"
    }
   ],
   "source": [
    "DF[[\"Youth_15_24_Literacy_Rate_Male\"]].boxplot()"
   ]
  },
  {
   "cell_type": "code",
   "execution_count": 12,
   "id": "eb6b68e8-5e30-4768-af09-df1eacfe2627",
   "metadata": {},
   "outputs": [
    {
     "data": {
      "text/plain": [
       "<Axes: >"
      ]
     },
     "execution_count": 12,
     "metadata": {},
     "output_type": "execute_result"
    },
    {
     "data": {
      "image/png": "[encoded data removed]",
      "text/plain": [
       "<Figure size 640x480 with 1 Axes>"
      ]
     },
     "metadata": {},
     "output_type": "display_data"
    }
   ],
   "source": [
    "\n",
    "DF[[\"Youth_15_24_Literacy_Rate_Female\"]].boxplot()\n"
   ]
  },
  {
   "cell_type": "code",
   "execution_count": 13,
   "id": "ba4843f4-10b9-4edb-ace4-262a80eba075",
   "metadata": {
    "scrolled": true
   },
   "outputs": [
    {
     "data": {
      "text/plain": [
       "<Axes: >"
      ]
     },
     "execution_count": 13,
     "metadata": {},
     "output_type": "execute_result"
    },
    {
     "data": {
      "image/png": "[encoded data removed]",
      "text/plain": [
       "<Figure size 640x480 with 1 Axes>"
      ]
     },
     "metadata": {},
     "output_type": "display_data"
    }
   ],
   "source": [
    "DF[[\"Completion_Rate_Upper_Secondary_Female\"]].boxplot()"
   ]
  },
  {
   "cell_type": "code",
   "execution_count": 14,
   "id": "cce48d72-66c8-4135-93ab-cf631e486e19",
   "metadata": {},
   "outputs": [
    {
     "data": {
      "text/plain": [
       "<Axes: >"
      ]
     },
     "execution_count": 14,
     "metadata": {},
     "output_type": "execute_result"
    },
    {
     "data": {
      "image/png": "[encoded data removed]",
      "text/plain": [
       "<Figure size 640x480 with 1 Axes>"
      ]
     },
     "metadata": {},
     "output_type": "display_data"
    }
   ],
   "source": [
    "DF[[\"Lower_Secondary_End_Proficiency_Read\"]].boxplot()"
   ]
  },
  {
   "cell_type": "code",
   "execution_count": 15,
   "id": "a6109445-50b6-4f6e-b6de-873894358001",
   "metadata": {
    "scrolled": true
   },
   "outputs": [
    {
     "data": {
      "text/plain": [
       "<Axes: >"
      ]
     },
     "execution_count": 15,
     "metadata": {},
     "output_type": "execute_result"
    },
    {
     "data": {
      "image/png": "[encoded data removed]",
      "text/plain": [
       "<Figure size 640x480 with 1 Axes>"
      ]
     },
     "metadata": {},
     "output_type": "display_data"
    }
   ],
   "source": [
    "DF[[\"Completion_Rate_Upper_Secondary_Male\"]].boxplot()"
   ]
  },
  {
   "cell_type": "code",
   "execution_count": 16,
   "id": "86a024ea-05d0-41aa-86f2-8f266d5e271b",
   "metadata": {},
   "outputs": [
    {
     "data": {
      "text/plain": [
       "<Axes: >"
      ]
     },
     "execution_count": 16,
     "metadata": {},
     "output_type": "execute_result"
    },
    {
     "data": {
      "image/png": "[encoded data removed]",
      "text/plain": [
       "<Figure size 640x480 with 1 Axes>"
      ]
     },
     "metadata": {},
     "output_type": "display_data"
    }
   ],
   "source": [
    "DF.Completion_Rate_Upper_Secondary_Female.hist(bins=20)"
   ]
  },
  {
   "cell_type": "code",
   "execution_count": 17,
   "id": "f7a5d053-bd29-406b-98ea-49fad36804c2",
   "metadata": {},
   "outputs": [
    {
     "data": {
      "text/plain": [
       "<Axes: >"
      ]
     },
     "execution_count": 17,
     "metadata": {},
     "output_type": "execute_result"
    },
    {
     "data": {
      "image/png": "[encoded data removed]",
      "text/plain": [
       "<Figure size 640x480 with 1 Axes>"
      ]
     },
     "metadata": {},
     "output_type": "display_data"
    }
   ],
   "source": [
    "DF.Youth_15_24_Literacy_Rate_Female.hist(bins=20)"
   ]
  },
  {
   "cell_type": "code",
   "execution_count": 18,
   "id": "e8e7b550-060b-4977-9998-692dd5db5484",
   "metadata": {},
   "outputs": [
    {
     "data": {
      "text/plain": [
       "<Axes: >"
      ]
     },
     "execution_count": 18,
     "metadata": {},
     "output_type": "execute_result"
    },
    {
     "data": {
      "image/png": "[encoded data removed]",
      "text/plain": [
       "<Figure size 640x480 with 1 Axes>"
      ]
     },
     "metadata": {},
     "output_type": "display_data"
    }
   ],
   "source": [
    "DF.Lower_Secondary_End_Proficiency_Read.hist(bins=20)"
   ]
  },
  {
   "cell_type": "code",
   "execution_count": 19,
   "id": "2bc90253-5f64-42fa-bfa5-aaa4fb5eebcc",
   "metadata": {},
   "outputs": [
    {
     "data": {
      "text/plain": [
       "<Axes: >"
      ]
     },
     "execution_count": 19,
     "metadata": {},
     "output_type": "execute_result"
    },
    {
     "data": {
      "image/png": "[encoded data removed]",
      "text/plain": [
       "<Figure size 640x480 with 1 Axes>"
      ]
     },
     "metadata": {},
     "output_type": "display_data"
    }
   ],
   "source": [
    "DF.Completion_Rate_Upper_Secondary_Male.hist(bins=20)"
   ]
  },
  {
   "cell_type": "code",
   "execution_count": 20,
   "id": "886be1d1-18c2-4b01-bc17-b44b3a2cfb29",
   "metadata": {
    "scrolled": true
   },
   "outputs": [
    {
     "data": {
      "text/plain": [
       "<Axes: >"
      ]
     },
     "execution_count": 20,
     "metadata": {},
     "output_type": "execute_result"
    },
    {
     "data": {
      "image/png": "[encoded data removed]",
      "text/plain": [
       "<Figure size 640x480 with 1 Axes>"
      ]
     },
     "metadata": {},
     "output_type": "display_data"
    }
   ],
   "source": [
    "DF.Youth_15_24_Literacy_Rate_Male.hist(bins=20)"
   ]
  },
  {
   "cell_type": "code",
   "execution_count": 21,
   "id": "2fa55e79-3384-43b8-a8ce-3b10280a6f7d",
   "metadata": {
    "scrolled": true
   },
   "outputs": [
    {
     "data": {
      "text/html": [
       "<div>\n",
       "<style scoped>\n",
       "    .dataframe tbody tr th:only-of-type {\n",
       "        vertical-align: middle;\n",
       "    }\n",
       "\n",
       "    .dataframe tbody tr th {\n",
       "        vertical-align: top;\n",
       "    }\n",
       "\n",
       "    .dataframe thead th {\n",
       "        text-align: right;\n",
       "    }\n",
       "</style>\n",
       "<table border=\"1\" class=\"dataframe\">\n",
       "  <thead>\n",
       "    <tr style=\"text-align: right;\">\n",
       "      <th></th>\n",
       "      <th>Countries</th>\n",
       "      <th>Lower_Secondary_End_Proficiency_Read</th>\n",
       "      <th>Completion_Rate_Upper_Secondary_Male</th>\n",
       "      <th>Youth_15_24_Literacy_Rate_Male</th>\n",
       "      <th>Youth_15_24_Literacy_Rate_Female</th>\n",
       "      <th>Completion_Rate_Upper_Secondary_Female</th>\n",
       "      <th>Continent</th>\n",
       "      <th>Overall_School_Success</th>\n",
       "    </tr>\n",
       "  </thead>\n",
       "  <tbody>\n",
       "    <tr>\n",
       "      <th>0</th>\n",
       "      <td>Afghanistan</td>\n",
       "      <td>0</td>\n",
       "      <td>32</td>\n",
       "      <td>74</td>\n",
       "      <td>56</td>\n",
       "      <td>14</td>\n",
       "      <td>Asia</td>\n",
       "      <td>High Success</td>\n",
       "    </tr>\n",
       "    <tr>\n",
       "      <th>1</th>\n",
       "      <td>Albania</td>\n",
       "      <td>48</td>\n",
       "      <td>76</td>\n",
       "      <td>99</td>\n",
       "      <td>100</td>\n",
       "      <td>80</td>\n",
       "      <td>Europe</td>\n",
       "      <td>High Success</td>\n",
       "    </tr>\n",
       "    <tr>\n",
       "      <th>2</th>\n",
       "      <td>Algeria</td>\n",
       "      <td>21</td>\n",
       "      <td>22</td>\n",
       "      <td>98</td>\n",
       "      <td>97</td>\n",
       "      <td>37</td>\n",
       "      <td>Africa</td>\n",
       "      <td>High Success</td>\n",
       "    </tr>\n",
       "    <tr>\n",
       "      <th>3</th>\n",
       "      <td>Andorra</td>\n",
       "      <td>0</td>\n",
       "      <td>0</td>\n",
       "      <td>0</td>\n",
       "      <td>0</td>\n",
       "      <td>0</td>\n",
       "      <td>Europe</td>\n",
       "      <td>Low Success</td>\n",
       "    </tr>\n",
       "    <tr>\n",
       "      <th>4</th>\n",
       "      <td>Angola</td>\n",
       "      <td>0</td>\n",
       "      <td>24</td>\n",
       "      <td>0</td>\n",
       "      <td>0</td>\n",
       "      <td>15</td>\n",
       "      <td>Africa</td>\n",
       "      <td>Low Success</td>\n",
       "    </tr>\n",
       "    <tr>\n",
       "      <th>...</th>\n",
       "      <td>...</td>\n",
       "      <td>...</td>\n",
       "      <td>...</td>\n",
       "      <td>...</td>\n",
       "      <td>...</td>\n",
       "      <td>...</td>\n",
       "      <td>...</td>\n",
       "      <td>...</td>\n",
       "    </tr>\n",
       "    <tr>\n",
       "      <th>197</th>\n",
       "      <td>Venezuela</td>\n",
       "      <td>0</td>\n",
       "      <td>0</td>\n",
       "      <td>0</td>\n",
       "      <td>0</td>\n",
       "      <td>0</td>\n",
       "      <td>South America</td>\n",
       "      <td>Low Success</td>\n",
       "    </tr>\n",
       "    <tr>\n",
       "      <th>198</th>\n",
       "      <td>Vietnam</td>\n",
       "      <td>86</td>\n",
       "      <td>50</td>\n",
       "      <td>98</td>\n",
       "      <td>98</td>\n",
       "      <td>61</td>\n",
       "      <td>Asia</td>\n",
       "      <td>High Success</td>\n",
       "    </tr>\n",
       "    <tr>\n",
       "      <th>199</th>\n",
       "      <td>Yemen</td>\n",
       "      <td>0</td>\n",
       "      <td>37</td>\n",
       "      <td>0</td>\n",
       "      <td>0</td>\n",
       "      <td>23</td>\n",
       "      <td>Asia</td>\n",
       "      <td>Low Success</td>\n",
       "    </tr>\n",
       "    <tr>\n",
       "      <th>200</th>\n",
       "      <td>Zambia</td>\n",
       "      <td>5</td>\n",
       "      <td>33</td>\n",
       "      <td>93</td>\n",
       "      <td>92</td>\n",
       "      <td>27</td>\n",
       "      <td>Africa</td>\n",
       "      <td>High Success</td>\n",
       "    </tr>\n",
       "    <tr>\n",
       "      <th>201</th>\n",
       "      <td>Zimbabwe</td>\n",
       "      <td>0</td>\n",
       "      <td>17</td>\n",
       "      <td>0</td>\n",
       "      <td>0</td>\n",
       "      <td>14</td>\n",
       "      <td>Africa</td>\n",
       "      <td>Low Success</td>\n",
       "    </tr>\n",
       "  </tbody>\n",
       "</table>\n",
       "<p>202 rows × 8 columns</p>\n",
       "</div>"
      ],
      "text/plain": [
       "       Countries  Lower_Secondary_End_Proficiency_Read  \\\n",
       "0    Afghanistan                                     0   \n",
       "1        Albania                                    48   \n",
       "2        Algeria                                    21   \n",
       "3        Andorra                                     0   \n",
       "4         Angola                                     0   \n",
       "..           ...                                   ...   \n",
       "197    Venezuela                                     0   \n",
       "198      Vietnam                                    86   \n",
       "199        Yemen                                     0   \n",
       "200       Zambia                                     5   \n",
       "201     Zimbabwe                                     0   \n",
       "\n",
       "     Completion_Rate_Upper_Secondary_Male  Youth_15_24_Literacy_Rate_Male  \\\n",
       "0                                      32                              74   \n",
       "1                                      76                              99   \n",
       "2                                      22                              98   \n",
       "3                                       0                               0   \n",
       "4                                      24                               0   \n",
       "..                                    ...                             ...   \n",
       "197                                     0                               0   \n",
       "198                                    50                              98   \n",
       "199                                    37                               0   \n",
       "200                                    33                              93   \n",
       "201                                    17                               0   \n",
       "\n",
       "     Youth_15_24_Literacy_Rate_Female  Completion_Rate_Upper_Secondary_Female  \\\n",
       "0                                  56                                      14   \n",
       "1                                 100                                      80   \n",
       "2                                  97                                      37   \n",
       "3                                   0                                       0   \n",
       "4                                   0                                      15   \n",
       "..                                ...                                     ...   \n",
       "197                                 0                                       0   \n",
       "198                                98                                      61   \n",
       "199                                 0                                      23   \n",
       "200                                92                                      27   \n",
       "201                                 0                                      14   \n",
       "\n",
       "         Continent Overall_School_Success  \n",
       "0             Asia           High Success  \n",
       "1           Europe           High Success  \n",
       "2           Africa           High Success  \n",
       "3           Europe            Low Success  \n",
       "4           Africa            Low Success  \n",
       "..             ...                    ...  \n",
       "197  South America            Low Success  \n",
       "198           Asia           High Success  \n",
       "199           Asia            Low Success  \n",
       "200         Africa           High Success  \n",
       "201         Africa            Low Success  \n",
       "\n",
       "[202 rows x 8 columns]"
      ]
     },
     "execution_count": 21,
     "metadata": {},
     "output_type": "execute_result"
    }
   ],
   "source": [
    "def overall_school_success(row):\n",
    "    completion_rate_male = row[\"Completion_Rate_Upper_Secondary_Male\"]\n",
    "    literacy_rate_male = row[\"Youth_15_24_Literacy_Rate_Male\"]\n",
    "    low_threshold = 0.6\n",
    "    high_threshold = 0.8\n",
    "\n",
    "    if completion_rate_male >= high_threshold and literacy_rate_male >= high_threshold:\n",
    "        return \"High Success\"\n",
    "    elif low_threshold <= completion_rate_male < high_threshold and low_threshold <= literacy_rate_male < high_threshold:\n",
    "        return \"Medium Success\"\n",
    "    else:\n",
    "        return \"Low Success\"\n",
    "\n",
    "DF[\"Overall_School_Success\"] = DF.apply(overall_school_success, axis=1)\n",
    "DF"
   ]
  },
  {
   "cell_type": "code",
   "execution_count": 22,
   "id": "bb380b1b-3e17-42dd-b44e-b3edf3ff13c7",
   "metadata": {},
   "outputs": [],
   "source": [
    "bins = 3\n",
    "DF[\"Extension\"] = pd.cut(pd.factorize(DF[\"Overall_School_Success\"])[0], bins=bins, labels=[\"L\",\"M\",\"H\"])\n",
    "\n"
   ]
  },
  {
   "cell_type": "code",
   "execution_count": 23,
   "id": "fb276e3a-eeab-4257-a37b-013f5cc9405a",
   "metadata": {
    "scrolled": true
   },
   "outputs": [
    {
     "data": {
      "text/html": [
       "<div>\n",
       "<style scoped>\n",
       "    .dataframe tbody tr th:only-of-type {\n",
       "        vertical-align: middle;\n",
       "    }\n",
       "\n",
       "    .dataframe tbody tr th {\n",
       "        vertical-align: top;\n",
       "    }\n",
       "\n",
       "    .dataframe thead th {\n",
       "        text-align: right;\n",
       "    }\n",
       "</style>\n",
       "<table border=\"1\" class=\"dataframe\">\n",
       "  <thead>\n",
       "    <tr style=\"text-align: right;\">\n",
       "      <th></th>\n",
       "      <th>Countries</th>\n",
       "      <th>Lower_Secondary_End_Proficiency_Read</th>\n",
       "      <th>Completion_Rate_Upper_Secondary_Male</th>\n",
       "      <th>Youth_15_24_Literacy_Rate_Male</th>\n",
       "      <th>Youth_15_24_Literacy_Rate_Female</th>\n",
       "      <th>Completion_Rate_Upper_Secondary_Female</th>\n",
       "      <th>Continent</th>\n",
       "      <th>Overall_School_Success</th>\n",
       "      <th>Extension</th>\n",
       "    </tr>\n",
       "  </thead>\n",
       "  <tbody>\n",
       "    <tr>\n",
       "      <th>0</th>\n",
       "      <td>Afghanistan</td>\n",
       "      <td>0</td>\n",
       "      <td>32</td>\n",
       "      <td>74</td>\n",
       "      <td>56</td>\n",
       "      <td>14</td>\n",
       "      <td>Asia</td>\n",
       "      <td>High Success</td>\n",
       "      <td>L</td>\n",
       "    </tr>\n",
       "    <tr>\n",
       "      <th>1</th>\n",
       "      <td>Albania</td>\n",
       "      <td>48</td>\n",
       "      <td>76</td>\n",
       "      <td>99</td>\n",
       "      <td>100</td>\n",
       "      <td>80</td>\n",
       "      <td>Europe</td>\n",
       "      <td>High Success</td>\n",
       "      <td>L</td>\n",
       "    </tr>\n",
       "    <tr>\n",
       "      <th>2</th>\n",
       "      <td>Algeria</td>\n",
       "      <td>21</td>\n",
       "      <td>22</td>\n",
       "      <td>98</td>\n",
       "      <td>97</td>\n",
       "      <td>37</td>\n",
       "      <td>Africa</td>\n",
       "      <td>High Success</td>\n",
       "      <td>L</td>\n",
       "    </tr>\n",
       "    <tr>\n",
       "      <th>3</th>\n",
       "      <td>Andorra</td>\n",
       "      <td>0</td>\n",
       "      <td>0</td>\n",
       "      <td>0</td>\n",
       "      <td>0</td>\n",
       "      <td>0</td>\n",
       "      <td>Europe</td>\n",
       "      <td>Low Success</td>\n",
       "      <td>H</td>\n",
       "    </tr>\n",
       "    <tr>\n",
       "      <th>4</th>\n",
       "      <td>Angola</td>\n",
       "      <td>0</td>\n",
       "      <td>24</td>\n",
       "      <td>0</td>\n",
       "      <td>0</td>\n",
       "      <td>15</td>\n",
       "      <td>Africa</td>\n",
       "      <td>Low Success</td>\n",
       "      <td>H</td>\n",
       "    </tr>\n",
       "    <tr>\n",
       "      <th>...</th>\n",
       "      <td>...</td>\n",
       "      <td>...</td>\n",
       "      <td>...</td>\n",
       "      <td>...</td>\n",
       "      <td>...</td>\n",
       "      <td>...</td>\n",
       "      <td>...</td>\n",
       "      <td>...</td>\n",
       "      <td>...</td>\n",
       "    </tr>\n",
       "    <tr>\n",
       "      <th>197</th>\n",
       "      <td>Venezuela</td>\n",
       "      <td>0</td>\n",
       "      <td>0</td>\n",
       "      <td>0</td>\n",
       "      <td>0</td>\n",
       "      <td>0</td>\n",
       "      <td>South America</td>\n",
       "      <td>Low Success</td>\n",
       "      <td>H</td>\n",
       "    </tr>\n",
       "    <tr>\n",
       "      <th>198</th>\n",
       "      <td>Vietnam</td>\n",
       "      <td>86</td>\n",
       "      <td>50</td>\n",
       "      <td>98</td>\n",
       "      <td>98</td>\n",
       "      <td>61</td>\n",
       "      <td>Asia</td>\n",
       "      <td>High Success</td>\n",
       "      <td>L</td>\n",
       "    </tr>\n",
       "    <tr>\n",
       "      <th>199</th>\n",
       "      <td>Yemen</td>\n",
       "      <td>0</td>\n",
       "      <td>37</td>\n",
       "      <td>0</td>\n",
       "      <td>0</td>\n",
       "      <td>23</td>\n",
       "      <td>Asia</td>\n",
       "      <td>Low Success</td>\n",
       "      <td>H</td>\n",
       "    </tr>\n",
       "    <tr>\n",
       "      <th>200</th>\n",
       "      <td>Zambia</td>\n",
       "      <td>5</td>\n",
       "      <td>33</td>\n",
       "      <td>93</td>\n",
       "      <td>92</td>\n",
       "      <td>27</td>\n",
       "      <td>Africa</td>\n",
       "      <td>High Success</td>\n",
       "      <td>L</td>\n",
       "    </tr>\n",
       "    <tr>\n",
       "      <th>201</th>\n",
       "      <td>Zimbabwe</td>\n",
       "      <td>0</td>\n",
       "      <td>17</td>\n",
       "      <td>0</td>\n",
       "      <td>0</td>\n",
       "      <td>14</td>\n",
       "      <td>Africa</td>\n",
       "      <td>Low Success</td>\n",
       "      <td>H</td>\n",
       "    </tr>\n",
       "  </tbody>\n",
       "</table>\n",
       "<p>202 rows × 9 columns</p>\n",
       "</div>"
      ],
      "text/plain": [
       "       Countries  Lower_Secondary_End_Proficiency_Read  \\\n",
       "0    Afghanistan                                     0   \n",
       "1        Albania                                    48   \n",
       "2        Algeria                                    21   \n",
       "3        Andorra                                     0   \n",
       "4         Angola                                     0   \n",
       "..           ...                                   ...   \n",
       "197    Venezuela                                     0   \n",
       "198      Vietnam                                    86   \n",
       "199        Yemen                                     0   \n",
       "200       Zambia                                     5   \n",
       "201     Zimbabwe                                     0   \n",
       "\n",
       "     Completion_Rate_Upper_Secondary_Male  Youth_15_24_Literacy_Rate_Male  \\\n",
       "0                                      32                              74   \n",
       "1                                      76                              99   \n",
       "2                                      22                              98   \n",
       "3                                       0                               0   \n",
       "4                                      24                               0   \n",
       "..                                    ...                             ...   \n",
       "197                                     0                               0   \n",
       "198                                    50                              98   \n",
       "199                                    37                               0   \n",
       "200                                    33                              93   \n",
       "201                                    17                               0   \n",
       "\n",
       "     Youth_15_24_Literacy_Rate_Female  Completion_Rate_Upper_Secondary_Female  \\\n",
       "0                                  56                                      14   \n",
       "1                                 100                                      80   \n",
       "2                                  97                                      37   \n",
       "3                                   0                                       0   \n",
       "4                                   0                                      15   \n",
       "..                                ...                                     ...   \n",
       "197                                 0                                       0   \n",
       "198                                98                                      61   \n",
       "199                                 0                                      23   \n",
       "200                                92                                      27   \n",
       "201                                 0                                      14   \n",
       "\n",
       "         Continent Overall_School_Success Extension  \n",
       "0             Asia           High Success         L  \n",
       "1           Europe           High Success         L  \n",
       "2           Africa           High Success         L  \n",
       "3           Europe            Low Success         H  \n",
       "4           Africa            Low Success         H  \n",
       "..             ...                    ...       ...  \n",
       "197  South America            Low Success         H  \n",
       "198           Asia           High Success         L  \n",
       "199           Asia            Low Success         H  \n",
       "200         Africa           High Success         L  \n",
       "201         Africa            Low Success         H  \n",
       "\n",
       "[202 rows x 9 columns]"
      ]
     },
     "execution_count": 23,
     "metadata": {},
     "output_type": "execute_result"
    }
   ],
   "source": [
    "DF"
   ]
  },
  {
   "cell_type": "code",
   "execution_count": 24,
   "id": "ef314a2e-7a17-4067-89e9-18d2147322ee",
   "metadata": {
    "scrolled": true
   },
   "outputs": [
    {
     "data": {
      "text/html": [
       "<div>\n",
       "<style scoped>\n",
       "    .dataframe tbody tr th:only-of-type {\n",
       "        vertical-align: middle;\n",
       "    }\n",
       "\n",
       "    .dataframe tbody tr th {\n",
       "        vertical-align: top;\n",
       "    }\n",
       "\n",
       "    .dataframe thead th {\n",
       "        text-align: right;\n",
       "    }\n",
       "</style>\n",
       "<table border=\"1\" class=\"dataframe\">\n",
       "  <thead>\n",
       "    <tr style=\"text-align: right;\">\n",
       "      <th>Extension</th>\n",
       "      <th>L</th>\n",
       "      <th>H</th>\n",
       "    </tr>\n",
       "    <tr>\n",
       "      <th>Continent</th>\n",
       "      <th></th>\n",
       "      <th></th>\n",
       "    </tr>\n",
       "  </thead>\n",
       "  <tbody>\n",
       "    <tr>\n",
       "      <th>Africa</th>\n",
       "      <td>24</td>\n",
       "      <td>27</td>\n",
       "    </tr>\n",
       "    <tr>\n",
       "      <th>Asia</th>\n",
       "      <td>14</td>\n",
       "      <td>32</td>\n",
       "    </tr>\n",
       "    <tr>\n",
       "      <th>Europe</th>\n",
       "      <td>3</td>\n",
       "      <td>41</td>\n",
       "    </tr>\n",
       "    <tr>\n",
       "      <th>North America</th>\n",
       "      <td>4</td>\n",
       "      <td>16</td>\n",
       "    </tr>\n",
       "    <tr>\n",
       "      <th>Oceania</th>\n",
       "      <td>1</td>\n",
       "      <td>12</td>\n",
       "    </tr>\n",
       "    <tr>\n",
       "      <th>South America</th>\n",
       "      <td>7</td>\n",
       "      <td>5</td>\n",
       "    </tr>\n",
       "  </tbody>\n",
       "</table>\n",
       "</div>"
      ],
      "text/plain": [
       "Extension       L   H\n",
       "Continent            \n",
       "Africa         24  27\n",
       "Asia           14  32\n",
       "Europe          3  41\n",
       "North America   4  16\n",
       "Oceania         1  12\n",
       "South America   7   5"
      ]
     },
     "execution_count": 24,
     "metadata": {},
     "output_type": "execute_result"
    }
   ],
   "source": [
    "pd.crosstab(DF.Continent,DF.Extension)"
   ]
  },
  {
   "cell_type": "code",
   "execution_count": 25,
   "id": "2fb78d3f-5974-4d87-8fa4-a71d7e613fe8",
   "metadata": {
    "scrolled": true
   },
   "outputs": [
    {
     "data": {
      "image/png": "[encoded data removed]",
      "text/plain": [
       "<Figure size 640x480 with 1 Axes>"
      ]
     },
     "metadata": {},
     "output_type": "display_data"
    }
   ],
   "source": [
    "Cont_Afr = pd.DataFrame(DF.Overall_School_Success[DF.Continent == \"Africa\"])\n",
    "Cont_Asi = pd.DataFrame(DF.Overall_School_Success[DF.Continent == \"Asia\"])\n",
    "Cont_Eur = pd.DataFrame(DF.Overall_School_Success[DF.Continent == \"Europe\"])\n",
    "Cont_North_Amer = pd.DataFrame(DF.Overall_School_Success[DF.Continent == \"North America\"])\n",
    "Cont_Ocea = pd.DataFrame(DF.Overall_School_Success[DF.Continent == \"Oceania\"])\n",
    "Cont_South_Amer = pd.DataFrame(DF.Overall_School_Success[DF.Continent == \"South America\"])\n",
    "\n",
    "category_mapping = pd.Categorical(DF[\"Overall_School_Success\"], categories=[\"Low Success\", \"Medium Success\", \"High Success\"]).codes\n",
    "DF[\"Success_Numeric\"] = category_mapping\n",
    "continent_means = DF.groupby(\"Continent\")[\"Success_Numeric\"].mean()\n",
    "continent_means.plot(kind=\"bar\", legend=False)\n",
    "plt.title(\"Mean Overall School Success by Continent\")\n",
    "plt.xlabel(\"Continent\")\n",
    "plt.ylabel(\"Mean Success (Numeric)\")\n",
    "plt.show()"
   ]
  },
  {
   "cell_type": "code",
   "execution_count": 31,
   "id": "bf0cdfb5-9071-4e67-abaa-06b0779be2b0",
   "metadata": {
    "scrolled": true
   },
   "outputs": [
    {
     "data": {
      "text/plain": [
       "<Axes: xlabel='Continent'>"
      ]
     },
     "execution_count": 31,
     "metadata": {},
     "output_type": "execute_result"
    },
    {
     "data": {
      "image/png": "[encoded data removed]",
      "text/plain": [
       "<Figure size 640x480 with 1 Axes>"
      ]
     },
     "metadata": {},
     "output_type": "display_data"
    }
   ],
   "source": [
    "pt.figure()\n",
    "pt.subplot(1,3,1)\n",
    "continent_means.plot()"
   ]
  },
  {
   "cell_type": "code",
   "execution_count": 33,
   "id": "d7b44e7f-5fa7-4ded-9cfe-07e639503843",
   "metadata": {
    "scrolled": true
   },
   "outputs": [
    {
     "data": {
      "text/plain": [
       "0     -0.777157\n",
       "1      0.669438\n",
       "2     -0.144272\n",
       "3     -0.777157\n",
       "4     -0.777157\n",
       "         ...   \n",
       "197   -0.777157\n",
       "198    1.814658\n",
       "199   -0.777157\n",
       "200   -0.626470\n",
       "201   -0.777157\n",
       "Name: Z_Lower_Secondary_End_Proficiency_Read, Length: 202, dtype: float64"
      ]
     },
     "execution_count": 33,
     "metadata": {},
     "output_type": "execute_result"
    }
   ],
   "source": [
    "\n",
    "DF[\"Z_Lower_Secondary_End_Proficiency_Read\"] = (DF[\"Lower_Secondary_End_Proficiency_Read\"] - DF[\"Lower_Secondary_End_Proficiency_Read\"].mean()) / DF[\"Lower_Secondary_End_Proficiency_Read\"].std()\n",
    "DF[\"Z_Lower_Secondary_End_Proficiency_Read\"]\n",
    "\n"
   ]
  },
  {
   "cell_type": "code",
   "execution_count": 34,
   "id": "b38a10ee-9c27-4c8e-be48-a4e5f1f4726c",
   "metadata": {
    "scrolled": true
   },
   "outputs": [
    {
     "data": {
      "text/html": [
       "<div>\n",
       "<style scoped>\n",
       "    .dataframe tbody tr th:only-of-type {\n",
       "        vertical-align: middle;\n",
       "    }\n",
       "\n",
       "    .dataframe tbody tr th {\n",
       "        vertical-align: top;\n",
       "    }\n",
       "\n",
       "    .dataframe thead th {\n",
       "        text-align: right;\n",
       "    }\n",
       "</style>\n",
       "<table border=\"1\" class=\"dataframe\">\n",
       "  <thead>\n",
       "    <tr style=\"text-align: right;\">\n",
       "      <th></th>\n",
       "      <th>Lower_Secondary_End_Proficiency_Read</th>\n",
       "      <th>Completion_Rate_Upper_Secondary_Male</th>\n",
       "      <th>Youth_15_24_Literacy_Rate_Male</th>\n",
       "      <th>Youth_15_24_Literacy_Rate_Female</th>\n",
       "      <th>Completion_Rate_Upper_Secondary_Female</th>\n",
       "      <th>Success_Numeric</th>\n",
       "      <th>Z_Lower_Secondary_End_Proficiency_Read</th>\n",
       "    </tr>\n",
       "  </thead>\n",
       "  <tbody>\n",
       "    <tr>\n",
       "      <th>Lower_Secondary_End_Proficiency_Read</th>\n",
       "      <td>1.000000</td>\n",
       "      <td>-0.049679</td>\n",
       "      <td>0.003518</td>\n",
       "      <td>0.017372</td>\n",
       "      <td>-0.027545</td>\n",
       "      <td>-0.130002</td>\n",
       "      <td>1.000000</td>\n",
       "    </tr>\n",
       "    <tr>\n",
       "      <th>Completion_Rate_Upper_Secondary_Male</th>\n",
       "      <td>-0.049679</td>\n",
       "      <td>1.000000</td>\n",
       "      <td>0.171520</td>\n",
       "      <td>0.174375</td>\n",
       "      <td>0.980652</td>\n",
       "      <td>0.372370</td>\n",
       "      <td>-0.049679</td>\n",
       "    </tr>\n",
       "    <tr>\n",
       "      <th>Youth_15_24_Literacy_Rate_Male</th>\n",
       "      <td>0.003518</td>\n",
       "      <td>0.171520</td>\n",
       "      <td>1.000000</td>\n",
       "      <td>0.996766</td>\n",
       "      <td>0.180083</td>\n",
       "      <td>0.718526</td>\n",
       "      <td>0.003518</td>\n",
       "    </tr>\n",
       "    <tr>\n",
       "      <th>Youth_15_24_Literacy_Rate_Female</th>\n",
       "      <td>0.017372</td>\n",
       "      <td>0.174375</td>\n",
       "      <td>0.996766</td>\n",
       "      <td>1.000000</td>\n",
       "      <td>0.188220</td>\n",
       "      <td>0.696892</td>\n",
       "      <td>0.017372</td>\n",
       "    </tr>\n",
       "    <tr>\n",
       "      <th>Completion_Rate_Upper_Secondary_Female</th>\n",
       "      <td>-0.027545</td>\n",
       "      <td>0.980652</td>\n",
       "      <td>0.180083</td>\n",
       "      <td>0.188220</td>\n",
       "      <td>1.000000</td>\n",
       "      <td>0.360782</td>\n",
       "      <td>-0.027545</td>\n",
       "    </tr>\n",
       "    <tr>\n",
       "      <th>Success_Numeric</th>\n",
       "      <td>-0.130002</td>\n",
       "      <td>0.372370</td>\n",
       "      <td>0.718526</td>\n",
       "      <td>0.696892</td>\n",
       "      <td>0.360782</td>\n",
       "      <td>1.000000</td>\n",
       "      <td>-0.130002</td>\n",
       "    </tr>\n",
       "    <tr>\n",
       "      <th>Z_Lower_Secondary_End_Proficiency_Read</th>\n",
       "      <td>1.000000</td>\n",
       "      <td>-0.049679</td>\n",
       "      <td>0.003518</td>\n",
       "      <td>0.017372</td>\n",
       "      <td>-0.027545</td>\n",
       "      <td>-0.130002</td>\n",
       "      <td>1.000000</td>\n",
       "    </tr>\n",
       "  </tbody>\n",
       "</table>\n",
       "</div>"
      ],
      "text/plain": [
       "                                        Lower_Secondary_End_Proficiency_Read  \\\n",
       "Lower_Secondary_End_Proficiency_Read                                1.000000   \n",
       "Completion_Rate_Upper_Secondary_Male                               -0.049679   \n",
       "Youth_15_24_Literacy_Rate_Male                                      0.003518   \n",
       "Youth_15_24_Literacy_Rate_Female                                    0.017372   \n",
       "Completion_Rate_Upper_Secondary_Female                             -0.027545   \n",
       "Success_Numeric                                                    -0.130002   \n",
       "Z_Lower_Secondary_End_Proficiency_Read                              1.000000   \n",
       "\n",
       "                                        Completion_Rate_Upper_Secondary_Male  \\\n",
       "Lower_Secondary_End_Proficiency_Read                               -0.049679   \n",
       "Completion_Rate_Upper_Secondary_Male                                1.000000   \n",
       "Youth_15_24_Literacy_Rate_Male                                      0.171520   \n",
       "Youth_15_24_Literacy_Rate_Female                                    0.174375   \n",
       "Completion_Rate_Upper_Secondary_Female                              0.980652   \n",
       "Success_Numeric                                                     0.372370   \n",
       "Z_Lower_Secondary_End_Proficiency_Read                             -0.049679   \n",
       "\n",
       "                                        Youth_15_24_Literacy_Rate_Male  \\\n",
       "Lower_Secondary_End_Proficiency_Read                          0.003518   \n",
       "Completion_Rate_Upper_Secondary_Male                          0.171520   \n",
       "Youth_15_24_Literacy_Rate_Male                                1.000000   \n",
       "Youth_15_24_Literacy_Rate_Female                              0.996766   \n",
       "Completion_Rate_Upper_Secondary_Female                        0.180083   \n",
       "Success_Numeric                                               0.718526   \n",
       "Z_Lower_Secondary_End_Proficiency_Read                        0.003518   \n",
       "\n",
       "                                        Youth_15_24_Literacy_Rate_Female  \\\n",
       "Lower_Secondary_End_Proficiency_Read                            0.017372   \n",
       "Completion_Rate_Upper_Secondary_Male                            0.174375   \n",
       "Youth_15_24_Literacy_Rate_Male                                  0.996766   \n",
       "Youth_15_24_Literacy_Rate_Female                                1.000000   \n",
       "Completion_Rate_Upper_Secondary_Female                          0.188220   \n",
       "Success_Numeric                                                 0.696892   \n",
       "Z_Lower_Secondary_End_Proficiency_Read                          0.017372   \n",
       "\n",
       "                                        Completion_Rate_Upper_Secondary_Female  \\\n",
       "Lower_Secondary_End_Proficiency_Read                                 -0.027545   \n",
       "Completion_Rate_Upper_Secondary_Male                                  0.980652   \n",
       "Youth_15_24_Literacy_Rate_Male                                        0.180083   \n",
       "Youth_15_24_Literacy_Rate_Female                                      0.188220   \n",
       "Completion_Rate_Upper_Secondary_Female                                1.000000   \n",
       "Success_Numeric                                                       0.360782   \n",
       "Z_Lower_Secondary_End_Proficiency_Read                               -0.027545   \n",
       "\n",
       "                                        Success_Numeric  \\\n",
       "Lower_Secondary_End_Proficiency_Read          -0.130002   \n",
       "Completion_Rate_Upper_Secondary_Male           0.372370   \n",
       "Youth_15_24_Literacy_Rate_Male                 0.718526   \n",
       "Youth_15_24_Literacy_Rate_Female               0.696892   \n",
       "Completion_Rate_Upper_Secondary_Female         0.360782   \n",
       "Success_Numeric                                1.000000   \n",
       "Z_Lower_Secondary_End_Proficiency_Read        -0.130002   \n",
       "\n",
       "                                        Z_Lower_Secondary_End_Proficiency_Read  \n",
       "Lower_Secondary_End_Proficiency_Read                                  1.000000  \n",
       "Completion_Rate_Upper_Secondary_Male                                 -0.049679  \n",
       "Youth_15_24_Literacy_Rate_Male                                        0.003518  \n",
       "Youth_15_24_Literacy_Rate_Female                                      0.017372  \n",
       "Completion_Rate_Upper_Secondary_Female                               -0.027545  \n",
       "Success_Numeric                                                      -0.130002  \n",
       "Z_Lower_Secondary_End_Proficiency_Read                                1.000000  "
      ]
     },
     "execution_count": 34,
     "metadata": {},
     "output_type": "execute_result"
    }
   ],
   "source": [
    "DF.corr(numeric_only=True)"
   ]
  },
  {
   "cell_type": "code",
   "execution_count": 38,
   "id": "48d36beb-a089-4b10-9c8a-6041cbf08fdd",
   "metadata": {
    "scrolled": true
   },
   "outputs": [
    {
     "data": {
      "text/plain": [
       "[<matplotlib.lines.Line2D at 0x29aa4e585c0>]"
      ]
     },
     "execution_count": 38,
     "metadata": {},
     "output_type": "execute_result"
    },
    {
     "data": {
      "image/png": "[encoded data removed]",
      "text/plain": [
       "<Figure size 640x480 with 1 Axes>"
      ]
     },
     "metadata": {},
     "output_type": "display_data"
    }
   ],
   "source": [
    "pt.figure(\"scatter plot\")\n",
    "pt.plot(DF.Completion_Rate_Upper_Secondary_Female,DF.Overall_School_Success,\"b.\")"
   ]
  },
  {
   "cell_type": "code",
   "execution_count": 40,
   "id": "d1e9d7ed-ca1d-4721-bff7-c5fc66e8ea4d",
   "metadata": {},
   "outputs": [
    {
     "data": {
      "text/html": [
       "<div>\n",
       "<style scoped>\n",
       "    .dataframe tbody tr th:only-of-type {\n",
       "        vertical-align: middle;\n",
       "    }\n",
       "\n",
       "    .dataframe tbody tr th {\n",
       "        vertical-align: top;\n",
       "    }\n",
       "\n",
       "    .dataframe thead th {\n",
       "        text-align: right;\n",
       "    }\n",
       "</style>\n",
       "<table border=\"1\" class=\"dataframe\">\n",
       "  <thead>\n",
       "    <tr style=\"text-align: right;\">\n",
       "      <th></th>\n",
       "      <th>Countries</th>\n",
       "      <th>Lower_Secondary_End_Proficiency_Read</th>\n",
       "      <th>Completion_Rate_Upper_Secondary_Male</th>\n",
       "      <th>Youth_15_24_Literacy_Rate_Male</th>\n",
       "      <th>Youth_15_24_Literacy_Rate_Female</th>\n",
       "      <th>Completion_Rate_Upper_Secondary_Female</th>\n",
       "      <th>Continent</th>\n",
       "      <th>Overall_School_Success</th>\n",
       "      <th>Extension</th>\n",
       "      <th>Success_Numeric</th>\n",
       "      <th>Z_Lower_Secondary_End_Proficiency_Read</th>\n",
       "    </tr>\n",
       "  </thead>\n",
       "  <tbody>\n",
       "  </tbody>\n",
       "</table>\n",
       "</div>"
      ],
      "text/plain": [
       "Empty DataFrame\n",
       "Columns: [Countries, Lower_Secondary_End_Proficiency_Read, Completion_Rate_Upper_Secondary_Male, Youth_15_24_Literacy_Rate_Male, Youth_15_24_Literacy_Rate_Female, Completion_Rate_Upper_Secondary_Female, Continent, Overall_School_Success, Extension, Success_Numeric, Z_Lower_Secondary_End_Proficiency_Read]\n",
       "Index: []"
      ]
     },
     "execution_count": 40,
     "metadata": {},
     "output_type": "execute_result"
    }
   ],
   "source": [
    "DF[(DF[\"Success_Numeric\"] > 50) & (DF[\"Completion_Rate_Upper_Secondary_Female\"] < 50)]"
   ]
  }
 ],
 "metadata": {
  "kernelspec": {
   "display_name": "Python 3 (ipykernel)",
   "language": "python",
   "name": "python3"
  },
  "language_info": {
   "codemirror_mode": {
    "name": "ipython",
    "version": 3
   },
   "file_extension": ".py",
   "mimetype": "text/x-python",
   "name": "python",
   "nbconvert_exporter": "python",
   "pygments_lexer": "ipython3",
   "version": "3.12.0"
  }
 },
 "nbformat": 4,
 "nbformat_minor": 5
}
